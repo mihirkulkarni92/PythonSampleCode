#Import needed libraries.
import pandas as pd

import matplotlib.pyplot as plt
get_ipython().magic('matplotlib inline')

df = pd.read_csv('heightweight.csv')
df.head()
df.tail()
df.count()
df['ageYear'].count()

#Initial Exploration

df.info()
df['gender'].nunique()
df['gender'].unique()
df['gender'].value_counts()
df.describe()

#Graph
#Plot histogram of height and weight seperately to check for any relation
plt.hist(df.HeightIn)
plt.hist(df.WeightLB)


# Import needed libraries
import seaborn as sns


#Scatter plot
plt.scatter(df.WeightLB, df.HeightIn)

#Model
from scipy import stats
estheight = stats.linregress(df.WeightLB, df.HeightIn)
estheight


#Deployment
def predict(weight):
    return estheight.slope * weight + estheight.intercept
x = input("Enter Weight = ")
print("Estimated height = "),(predict(int(x))/12)


# In[31]:


predict(190)/12
